{
 "cells": [
  {
   "cell_type": "markdown",
   "id": "07a55bdd-458e-47b7-90f1-47d70e66b9e8",
   "metadata": {},
   "source": [
    "## Lab - EDA Bivariate Analysis: Diving into Amazon UK Product Insights Part II"
   ]
  },
  {
   "cell_type": "code",
   "execution_count": null,
   "id": "6d7b1664-c28e-4316-9ace-96d5b87aa7d9",
   "metadata": {},
   "outputs": [],
   "source": [
    "import pandas as pd\n",
    "import numpy as np\n",
    "import scipy.stats as stats\n",
    "import matplotlib.pyplot as plt\n",
    "import seaborn as sns\n",
    "\n",
    "# Load the dataset - point here to your folder where the dataset is \n",
    "df = pd.read_csv('amz_uk_price_prediction_dataset.csv')"
   ]
  },
  {
   "cell_type": "code",
   "execution_count": null,
   "id": "5882b3de-dd4b-41d0-b427-2b5f08df362d",
   "metadata": {},
   "outputs": [],
   "source": [
    "df.head()"
   ]
  },
  {
   "cell_type": "code",
   "execution_count": null,
   "id": "ec319211-1ff3-4108-b1ff-5b1185bfbcd5",
   "metadata": {},
   "outputs": [],
   "source": [
    "df.shape"
   ]
  },
  {
   "cell_type": "markdown",
   "id": "ef6b5f24-5326-4e43-9da4-0332b4ded704",
   "metadata": {},
   "source": [
    "## Preliminary Step: Remove outliers in product prices"
   ]
  },
  {
   "cell_type": "markdown",
   "id": "ed302a8b-6adc-4d6f-be0a-7560ec88a510",
   "metadata": {},
   "source": [
    "For this purpose, we can use the IQR (Interquartile Range) method. Products priced below the first quartile minus 1.5 times the IQR or above the third quartile plus 1.5 times the IQR will be considered outliers and removed from the dataset.\n",
    "Let's start by removing the outliers and then proceed with the outlined analyses."
   ]
  },
  {
   "cell_type": "code",
   "execution_count": null,
   "id": "126d7d92-98d7-4b0f-8f62-3f1cce1bbb20",
   "metadata": {},
   "outputs": [],
   "source": [
    "# Calculate IQR for the price column\n",
    "Q1 = df['price'].quantile(0.25)\n",
    "Q3 = df['price'].quantile(0.75)\n",
    "IQR = Q3 - Q1\n",
    "\n",
    "# Define bounds for outliers\n",
    "lower_bound = Q1 - 1.5 * IQR\n",
    "upper_bound = Q3 + 1.5 * IQR\n",
    "\n",
    "# Filter out outliers\n",
    "df_no_outliers = df[(df['price'] >= lower_bound) & (df['price'] <= upper_bound)]\n",
    "\n",
    "# Check the shape of the data after removing outliers\n",
    "df_no_outliers.shape"
   ]
  },
  {
   "cell_type": "markdown",
   "id": "03ebb730-82da-4658-a1db-a0690f9999e6",
   "metadata": {},
   "source": [
    "## Part 1: Analyzing Best-Seller Trends Across Product Categories"
   ]
  },
  {
   "cell_type": "markdown",
   "id": "295a2374-237a-4fd1-a548-954aaafe39f6",
   "metadata": {},
   "source": [
    "**Objective**: Understand the relationship between product categories and best sellers."
   ]
  },
  {
   "cell_type": "markdown",
   "id": "36c763da-4569-4b90-8730-7b37ae117321",
   "metadata": {},
   "source": [
    "1. **Crosstab Analysis**:\n",
    "    - Create a crosstab between the product `category` and the `isBestSeller` status.\n",
    "    - Are there categories where being a best-seller is more prevalent? "
   ]
  },
  {
   "cell_type": "code",
   "execution_count": null,
   "id": "3e4b8c4b-50fe-4875-9d98-da17d26d3caf",
   "metadata": {},
   "outputs": [],
   "source": [
    "# Create a crosstab between category and isBestSeller status\n",
    "crosstab_best_seller_category = pd.crosstab(df_no_outliers['category'], df_no_outliers['isBestSeller'])\n",
    "crosstab_best_seller_category_prop = crosstab_best_seller_category.copy()"
   ]
  },
  {
   "cell_type": "code",
   "execution_count": null,
   "id": "768b2645-ecb4-44a1-a1e1-7b3656b15324",
   "metadata": {},
   "outputs": [],
   "source": [
    "# Calculate the proportion of best-sellers for each category\n",
    "crosstab_best_seller_category_prop['best_seller_proportion'] = crosstab_best_seller_category[True] / (crosstab_best_seller_category[True] + crosstab_best_seller_category[False])\n",
    "\n",
    "# Sort categories based on best-seller proportion in descending order\n",
    "sorted_categories_by_best_seller_proportion = crosstab_best_seller_category_prop.sort_values(by='best_seller_proportion', ascending=False)\n",
    "\n",
    "# Display the sorted categories\n",
    "sorted_categories_by_best_seller_proportion[['best_seller_proportion']]\n"
   ]
  },
  {
   "cell_type": "markdown",
   "id": "0612ec8e-53e4-4858-a39e-272935a05aa2",
   "metadata": {},
   "source": [
    "The categories with the highest proportions of best-sellers are:\n",
    "\n",
    "- Smart Home Security & Lighting: 6.41%\n",
    "- Wind Instruments: 5.93%\n",
    "- Grocery: 5.81%\n",
    "- Health & Personal Car: 5.7%\n",
    "- Material Handling Products: 4.81%\n",
    "\n",
    "On the other end of the spectrum, there are several categories where no products have the best-seller status."
   ]
  },
  {
   "cell_type": "markdown",
   "id": "15d8b011-cc58-4e4b-a253-f5eecb59fd25",
   "metadata": {},
   "source": [
    "2. **Statistical Tests**:\n",
    "    - Conduct a Chi-square test to determine if the best-seller distribution is independent of the product category.\n",
    "    - Compute Cramér's V to understand the strength of association between best-seller status and category."
   ]
  },
  {
   "cell_type": "markdown",
   "id": "92da736c-7394-4589-aeab-b6a05466fd10",
   "metadata": {},
   "source": [
    "The Chi-square test will help us determine if there's a significant association between the product category and its best-seller status. Let's conduct the test:"
   ]
  },
  {
   "cell_type": "code",
   "execution_count": null,
   "id": "687cb39e-2f52-461c-a290-ddab11fcdf36",
   "metadata": {},
   "outputs": [],
   "source": [
    "from scipy.stats import chi2_contingency\n",
    "\n",
    "# Conducting the Chi-square test\n",
    "chi2, p, _, _ = chi2_contingency(crosstab_best_seller_category)\n",
    "\n",
    "chi2, p"
   ]
  },
  {
   "cell_type": "markdown",
   "id": "254a7c8d-adb6-40b5-ba3a-9c7c83211774",
   "metadata": {},
   "source": [
    "Given the extremely low \\( p \\)-value (essentially zero), we can reject the null hypothesis. This indicates that there is a significant association between the product category and its best-seller status."
   ]
  },
  {
   "cell_type": "markdown",
   "id": "7a97a8f0-166a-4744-9864-a6408ff1a24b",
   "metadata": {},
   "source": [
    "**Next**, let's compute Cramér's V to understand the strength of this association.\n",
    "\n",
    "**Cramér's V**:\n",
    "Cramér's V is a measure of association between two nominal variables. Its value ranges from 0 (no association) to 1 (perfect association). Let's compute it:"
   ]
  },
  {
   "cell_type": "code",
   "execution_count": null,
   "id": "651c0783-28d7-4d05-9cf2-6c73d20f66f9",
   "metadata": {},
   "outputs": [],
   "source": [
    "from scipy.stats.contingency import association\n",
    "\n",
    "# Computing the association between variables in 'crosstab_result' using the \"cramer\" method\n",
    "association(crosstab_best_seller_category, method=\"cramer\")"
   ]
  },
  {
   "cell_type": "markdown",
   "id": "a91ef84e-dd57-4b08-88a8-a63e085326a2",
   "metadata": {},
   "source": [
    "The value of Cramér's V is approximately \\(0.12\\).\n",
    "\n",
    "Cramér's V values can be interpreted as follows:\n",
    "- \\(0\\): No association\n",
    "- \\(0.1\\): Weak association\n",
    "- \\(0.2\\): Moderate association\n",
    "- \\(0.3\\): Relatively strong association\n",
    "- \\(1\\): Perfect association\n",
    "\n",
    "Given our result, the strength of association between product category and best-seller status is weak.\n"
   ]
  },
  {
   "cell_type": "markdown",
   "id": "cf84466e-bc57-4e94-9181-0102edab6aaf",
   "metadata": {},
   "source": [
    "3. **Visualizations**:\n",
    "\t- Visualize the relationship between product categories and the best-seller status using a stacked bar chart."
   ]
  },
  {
   "cell_type": "markdown",
   "id": "fd9310a0-89a2-49c3-a070-5ffff0485538",
   "metadata": {},
   "source": [
    "**Stacked Bar Chart:**\n",
    "We'll visualize the relationship between product categories and their best-seller status using a stacked bar chart. To make the chart more readable, we'll focus on the top 10 categories with the highest proportions of best-sellers."
   ]
  },
  {
   "cell_type": "code",
   "execution_count": null,
   "id": "b3f0fa14-0a2d-4b9d-b699-c25e8b169161",
   "metadata": {},
   "outputs": [],
   "source": [
    "# Correcting the plotting for top 10 categories with highest best-seller proportions\n",
    "top_categories = sorted_categories_by_best_seller_proportion.iloc[:10, :]\n",
    "\n",
    "# Plotting the stacked bar chart\n",
    "top_categories.plot(kind='bar', stacked=True, figsize=(12, 6))"
   ]
  },
  {
   "cell_type": "markdown",
   "id": "1670483e-ad77-4dd9-9e93-b8e6bf728c3a",
   "metadata": {},
   "source": [
    "Here's the stacked bar chart showcasing the top 10 categories with the highest best-seller proportions. The blue bars represent products that are not best-sellers, while the orange bars represent best-sellers."
   ]
  },
  {
   "cell_type": "markdown",
   "id": "895547dc-5bbb-4248-a815-bc12d59615a2",
   "metadata": {},
   "source": [
    "## Part 2: Exploring Product Prices and Ratings Across Categories\n",
    "\n",
    "**Objective**: Investigate how different product categories influence product prices."
   ]
  },
  {
   "cell_type": "markdown",
   "id": "e4e7a54d-c6a8-4b34-bff2-cf327b078db0",
   "metadata": {},
   "source": [
    "1. **Violin Plots**:\n",
    "    - Use a violin plot to visualize the distribution of `price` across different product `categories`. Filter out the top 20 categories based on count for better visualization.\n",
    "    - Which product category tends to have the highest median price? Don't filter here by top categories."
   ]
  },
  {
   "cell_type": "code",
   "execution_count": null,
   "id": "61a4611a-27a7-48bd-a57f-3ea6a646f997",
   "metadata": {},
   "outputs": [],
   "source": [
    "# Filtering out top 20 categories based on count for better visualization\n",
    "top_20_categories = df_no_outliers['category'].value_counts().nlargest(20).index\n",
    "filtered_data = df_no_outliers[df_no_outliers['category'].isin(top_20_categories)]"
   ]
  },
  {
   "cell_type": "code",
   "execution_count": null,
   "id": "ddf71113-069b-4315-9b99-38eab51736ba",
   "metadata": {},
   "outputs": [],
   "source": [
    "plt.figure(figsize=(14, 10))\n",
    "sns.violinplot(x='category', y='price', data=filtered_data)\n",
    "plt.title('Distribution of Product Prices Across Top 20 Categories')\n",
    "plt.xticks(rotation=45, ha='right')\n",
    "plt.show()"
   ]
  },
  {
   "cell_type": "markdown",
   "id": "d48f65ab-d37e-41ca-9b7e-85a8207f089a",
   "metadata": {},
   "source": [
    "The violin plot visually represents the distribution of product prices across the top 20 most frequent categories based on a subset of the data."
   ]
  },
  {
   "cell_type": "code",
   "execution_count": null,
   "id": "85c555d2-39c9-4828-b737-6906bb784567",
   "metadata": {},
   "outputs": [],
   "source": [
    "# Identifying the category with the highest median price\n",
    "category_highest_median = df_no_outliers.groupby('category')['price'].median().idxmax()\n",
    "highest_median_price = df_no_outliers.groupby('category')['price'].median().max()\n",
    "\n",
    "category_highest_median, highest_median_price"
   ]
  },
  {
   "cell_type": "markdown",
   "id": "352aecac-a89b-4ea4-b259-a1b6fd5b45a1",
   "metadata": {},
   "source": [
    "2. **Bar Charts**:\n",
    "    - Create a bar chart comparing the average price of products for the top 10 product categories.\n",
    "    - Which product category commands the highest average price? Don't filter here by top categories."
   ]
  },
  {
   "cell_type": "markdown",
   "id": "088fd478-8b6d-4d05-830a-206129a589cb",
   "metadata": {},
   "source": [
    "First, we'll create a bar chart comparing the average price of products for the top 10 product categories. Then, we'll identify which product category commands the highest average price."
   ]
  },
  {
   "cell_type": "code",
   "execution_count": null,
   "id": "b96d3503-cee3-445b-9af6-ad51e3c72a18",
   "metadata": {},
   "outputs": [],
   "source": [
    "# Calculate average price for each category\n",
    "average_price_by_category = df_no_outliers.groupby('category')['price'].mean()\n",
    "\n",
    "# Select top 10 categories based on product count\n",
    "top_10_categories = df_no_outliers['category'].value_counts().nlargest(10).index\n",
    "filtered_avg_price_category = average_price_by_category.loc[top_10_categories]"
   ]
  },
  {
   "cell_type": "code",
   "execution_count": null,
   "id": "abb2864b-37c1-4deb-81bd-0f14a10598da",
   "metadata": {},
   "outputs": [],
   "source": [
    "# Plotting the bar chart\n",
    "plt.figure(figsize=(12, 6))\n",
    "filtered_avg_price_category.sort_values(ascending=False).plot(kind='bar', color='coral')\n",
    "plt.title('Average Product Price for Top 10 Categories')\n",
    "plt.ylabel('Average Price (£)')\n",
    "plt.xlabel('Product Category')\n",
    "plt.xticks(rotation=45, ha='right')\n",
    "plt.tight_layout()\n",
    "plt.show()"
   ]
  },
  {
   "cell_type": "code",
   "execution_count": null,
   "id": "8f341eca-a080-4528-a6e2-14c4e8374431",
   "metadata": {},
   "outputs": [],
   "source": [
    "# Identifying the category with the highest average price\n",
    "category_highest_avg_price = df_no_outliers.groupby('category')['price'].mean().idxmax()\n",
    "highest_avg_price_category = df_no_outliers.groupby('category')['price'].mean().max()\n",
    "\n",
    "category_highest_avg_price, highest_avg_price_category"
   ]
  },
  {
   "cell_type": "markdown",
   "id": "b3b9afae-6482-4495-8327-acfeafd47219",
   "metadata": {},
   "source": [
    "3. **Box Plots**:\n",
    "    - Visualize the distribution of product `ratings` based on their `category` using side-by-side box plots. Filter out the top 10 categories based on count for better visualization.\n",
    "    - Which category tends to receive the highest median rating from customers? Don't filter here by top categories."
   ]
  },
  {
   "cell_type": "code",
   "execution_count": null,
   "id": "f47bd378-01b9-43b3-b250-a7c84c4ce096",
   "metadata": {},
   "outputs": [],
   "source": [
    "# Filtering out top 10 categories based on count for better visualization\n",
    "top_10_categories = df_no_outliers['category'].value_counts().nlargest(10).index\n",
    "filtered_data = df_no_outliers[df_no_outliers['category'].isin(top_10_categories)]"
   ]
  },
  {
   "cell_type": "code",
   "execution_count": null,
   "id": "921f2576-0dea-470a-91ab-b442dd79fa04",
   "metadata": {},
   "outputs": [],
   "source": [
    "# Visualize the distribution of product ratings based on their category using box plots\n",
    "plt.figure(figsize=(14, 10))\n",
    "sns.boxplot(x='category', y='stars', data=filtered_data)\n",
    "plt.title('Distribution of Product Ratings Across Categories')\n",
    "plt.ylabel('Product Rating (Stars)')\n",
    "plt.xlabel('Product Category')\n",
    "plt.xticks(rotation=45, ha='right')\n",
    "plt.tight_layout()\n",
    "plt.show()"
   ]
  },
  {
   "cell_type": "code",
   "execution_count": null,
   "id": "d1d9868e-9afc-4522-9e0a-1059ce7630fa",
   "metadata": {},
   "outputs": [],
   "source": [
    "# Identify the category with the highest median rating\n",
    "category_highest_median_rating = df_no_outliers.groupby('category')['stars'].median().idxmax()\n",
    "highest_median_rating = df_no_outliers.groupby('category')['stars'].median().max()\n",
    "\n",
    "category_highest_median_rating, highest_median_rating"
   ]
  },
  {
   "cell_type": "markdown",
   "id": "e0d96109-a360-4158-aae3-a8a950c45f2b",
   "metadata": {},
   "source": [
    "## Part 3: Investigating the Interplay Between Product Prices and Number of Reviews\n",
    "\n",
    "**Objective**: Analyze how product number of reviews correlate with product prices."
   ]
  },
  {
   "cell_type": "markdown",
   "id": "af5ad5f1-e430-4ab5-b476-d7544299ab7e",
   "metadata": {},
   "source": [
    "1. **Correlation Coefficients**:\n",
    "    - Calculate the correlation coefficient between `price` and `reviews`.\n",
    "    - Is there a significant correlation between product price and its number of reviews?"
   ]
  },
  {
   "cell_type": "code",
   "execution_count": null,
   "id": "24b947d6-e36c-4d26-8b41-6804fc9ee1ac",
   "metadata": {},
   "outputs": [],
   "source": [
    "# Calculate the correlation coefficient between price and rating\n",
    "correlation_price_rating = df_no_outliers['price'].corr(df_no_outliers['reviews'])\n",
    "\n",
    "correlation_price_rating"
   ]
  },
  {
   "cell_type": "code",
   "execution_count": null,
   "id": "ca673098-1c97-45bb-a5f6-a1e156613774",
   "metadata": {},
   "outputs": [],
   "source": [
    "# Calculate the correlation coefficient between price and rating\n",
    "correlation_price_rating = df_no_outliers['price'].corr(df_no_outliers['reviews'], method='spearman')\n",
    "\n",
    "correlation_price_rating"
   ]
  },
  {
   "cell_type": "markdown",
   "id": "93c1d784-a77d-4a57-b83b-b32a624de469",
   "metadata": {},
   "source": [
    "This value is close to zero, indicating a very weak negative correlation between product price and the number of reviews.\n",
    "\n",
    "Practically, this suggests that the price of a product and the number of reviews it has are largely independent of each other, with only a slight negative trend."
   ]
  },
  {
   "cell_type": "markdown",
   "id": "22e183a8-7014-4cb2-acfa-6f18783ce256",
   "metadata": {},
   "source": [
    "Other factors (e.g., product quality, brand reputation, customer expectations) likely play a more significant role."
   ]
  },
  {
   "cell_type": "markdown",
   "id": "f907ba12-21d9-44f2-bd84-94736b33b338",
   "metadata": {},
   "source": [
    "2. **Visualizations**:\n",
    "    - Use a scatter plot to visualize the relationship between product reviews and price. What patterns can you observe?\n",
    "    - Use a correlation heatmap to visualize correlations between `price`, `reviews`, and other continuous variables.\n",
    "    - Examine if product prices typically follow a normal distribution using a QQ plot. "
   ]
  },
  {
   "cell_type": "code",
   "execution_count": null,
   "id": "de359f80-d6cd-4cfe-a001-23d9453b2924",
   "metadata": {},
   "outputs": [],
   "source": [
    "# Scatter plot to visualize the relationship between product reviews and price\n",
    "plt.figure(figsize=(12, 6))\n",
    "sns.scatterplot(x=df_no_outliers['reviews'], y=df_no_outliers['price'], alpha=0.5)\n",
    "plt.title('Relationship Between Product Rating and Price')\n",
    "plt.tight_layout()\n",
    "plt.show()"
   ]
  },
  {
   "cell_type": "markdown",
   "id": "3c450db1-9869-41d0-8016-ebc894881397",
   "metadata": {},
   "source": [
    "Here's the scatter plot showcasing the relationship between the number of reviews and product price:\n",
    "\n",
    "- The majority of products have fewer reviews and are clustered towards the left side of the plot.\n",
    "- There doesn't seem to be a strong trend indicating that products with higher prices receive more or fewer reviews. The data points are dispersed without a clear pattern.\n",
    "- Some products with a higher number of reviews are in the lower to mid-price range, suggesting that these products might be popular or widely purchased."
   ]
  },
  {
   "cell_type": "markdown",
   "id": "6230049d-cb7d-484b-bab0-3d248cf2f0e6",
   "metadata": {},
   "source": [
    "We'll create a correlation heatmap to visualize correlations numerical variables."
   ]
  },
  {
   "cell_type": "code",
   "execution_count": null,
   "id": "921f2933-2043-41dc-bcb3-2d85d33819ba",
   "metadata": {},
   "outputs": [],
   "source": [
    "# Correlation heatmap\n",
    "correlation_matrix = df_no_outliers['price', 'reviews', 'stars'].corr()\n",
    "plt.figure(figsize=(8, 6))\n",
    "sns.heatmap(correlation_matrix, annot=True, cmap=\"coolwarm\", vmin=-1, vmax=1)\n",
    "plt.title(\"Correlation Heatmap\")\n",
    "plt.show()"
   ]
  },
  {
   "cell_type": "markdown",
   "id": "116f812d-57e0-4c57-b7bb-3c9a74d2464d",
   "metadata": {},
   "source": [
    "**Correlation Heatmap**:\n",
    "   - The heatmap provides a visual representation of the correlation between numerical variables.\n",
    "   \n",
    "   If we talk about continous variables...\n",
    "   - As we discussed earlier, the correlation between `price` and `reviews` is very weak. The correlation between `price` and `stars` (product rating) is also weak and negative, as indicated by the slightly blue shade.\n",
    "   - The correlation between `reviews` and `stars` is positive but still weak, suggesting that products with more reviews don't necessarily have higher or lower ratings."
   ]
  },
  {
   "cell_type": "markdown",
   "id": "57f84bb1-70de-4bdb-ae24-ac970100dad7",
   "metadata": {},
   "source": [
    "Next, we'll examine if product prices typically follow a normal distribution using a QQ plot."
   ]
  },
  {
   "cell_type": "code",
   "execution_count": null,
   "id": "00cacaf8-af8f-46e9-8dc0-603e731ef481",
   "metadata": {},
   "outputs": [],
   "source": [
    "# QQ plot for product prices\n",
    "plt.figure(figsize=(8, 6))\n",
    "stats.probplot(df_no_outliers['price'], dist=\"norm\", plot=plt)\n",
    "plt.title(\"QQ Plot for Product Prices\")\n",
    "plt.show()"
   ]
  },
  {
   "cell_type": "markdown",
   "id": "4981bf1a-e388-4dcc-bdbe-ce9733c08037",
   "metadata": {},
   "source": [
    "**QQ Plot for Product Prices**:\n",
    "   - A QQ (quantile-quantile) plot is used to compare the distribution of a dataset with a theoretical normal distribution.\n",
    "   - If the data points in the QQ plot closely follow the straight line (which represents the normal distribution), then the dataset is approximately normally distributed.\n",
    "   - In this case, the QQ plot indicates that product prices are not  normally distributed."
   ]
  },
  {
   "cell_type": "markdown",
   "id": "dda0fa0b-fdd7-4db0-a032-11d56696d67b",
   "metadata": {},
   "source": [
    "## Bonus"
   ]
  },
  {
   "cell_type": "markdown",
   "id": "35ad6336-0004-49b4-9b6f-78d222124a40",
   "metadata": {},
   "source": [
    "- Do the same analysis without taking out the outliers. What are your insights?"
   ]
  }
 ],
 "metadata": {
  "kernelspec": {
   "display_name": "Python 3 (ipykernel)",
   "language": "python",
   "name": "python3"
  },
  "language_info": {
   "codemirror_mode": {
    "name": "ipython",
    "version": 3
   },
   "file_extension": ".py",
   "mimetype": "text/x-python",
   "name": "python",
   "nbconvert_exporter": "python",
   "pygments_lexer": "ipython3",
   "version": "3.9.13"
  }
 },
 "nbformat": 4,
 "nbformat_minor": 5
}
